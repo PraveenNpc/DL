{
  "nbformat": 4,
  "nbformat_minor": 0,
  "metadata": {
    "colab": {
      "name": "Keras_classification_fashion_mnist.ipynb",
      "provenance": [],
      "collapsed_sections": []
    },
    "kernelspec": {
      "display_name": "Python 3",
      "name": "python3"
    },
    "accelerator": "GPU"
  },
  "cells": [
    {
      "cell_type": "markdown",
      "metadata": {
        "id": "FbVhjPpzn6BM"
      },
      "source": [
        "This guide trains a neural network model to classify images of clothing, like sneakers and shirts. It's okay if you don't understand all the details; \n",
        "\n",
        "This guide uses [tf.keras](https://www.tensorflow.org/guide/keras), a high-level API to build and train models in TensorFlow."
      ]
    },
    {
      "cell_type": "code",
      "metadata": {
        "id": "dzLKpmZICaWN",
        "colab": {
          "base_uri": "https://localhost:8080/"
        },
        "outputId": "68176fd4-5d4f-4aaa-b1e1-5ef400f0a1b2"
      },
      "source": [
        "# TensorFlow and tf.keras\n",
        "import tensorflow as tf\n",
        "from tensorflow import keras\n",
        "\n",
        "# Helper libraries\n",
        "import numpy as np\n",
        "import matplotlib.pyplot as plt\n",
        "\n",
        "print(tf.__version__)"
      ],
      "execution_count": 1,
      "outputs": [
        {
          "output_type": "stream",
          "text": [
            "2.4.1\n"
          ],
          "name": "stdout"
        }
      ]
    },
    {
      "cell_type": "markdown",
      "metadata": {
        "id": "yR0EdgrLCaWR"
      },
      "source": [
        "## Import the Fashion MNIST dataset"
      ]
    },
    {
      "cell_type": "markdown",
      "metadata": {
        "id": "DLdCchMdCaWQ"
      },
      "source": [
        "This guide uses the [Fashion MNIST](https://github.com/zalandoresearch/fashion-mnist) dataset which contains 70,000 grayscale images in 10 categories. The images show individual articles of clothing at low resolution (28 by 28 pixels), as seen here:\n",
        "\n",
        "<table>\n",
        "  <tr><td>\n",
        "    <img src=\"https://tensorflow.org/images/fashion-mnist-sprite.png\"\n",
        "         alt=\"Fashion MNIST sprite\"  width=\"600\">\n",
        "  </td></tr>\n",
        "  <tr><td align=\"center\">\n",
        "    <b>Figure 1.</b> <a href=\"https://github.com/zalandoresearch/fashion-mnist\">Fashion-MNIST samples</a> (by Zalando, MIT License).<br/>&nbsp;\n",
        "  </td></tr>\n",
        "</table>\n",
        "\n",
        "Fashion MNIST is intended as a drop-in replacement for the classic [MNIST](http://yann.lecun.com/exdb/mnist/) dataset—often used as the \"Hello, World\" of machine learning programs for computer vision. The MNIST dataset contains images of handwritten digits (0, 1, 2, etc.) in a format identical to that of the articles of clothing you'll use here.\n",
        "\n",
        "This guide uses Fashion MNIST for variety, and because it's a slightly more challenging problem than regular MNIST. Both datasets are relatively small and are used to verify that an algorithm works as expected. They're good starting points to test and debug code.\n",
        "\n",
        "Here, 60,000 images are used to train the network and 10,000 images to evaluate how accurately the network learned to classify images. You can access the Fashion MNIST directly from TensorFlow. Import and load the Fashion MNIST data directly from TensorFlow:"
      ]
    },
    {
      "cell_type": "code",
      "metadata": {
        "id": "7MqDQO0KCaWS",
        "colab": {
          "base_uri": "https://localhost:8080/"
        },
        "outputId": "56eb5ad2-a0f6-4b08-8ec0-dec05c66e627"
      },
      "source": [
        "fashion_mnist = keras.datasets.fashion_mnist\n",
        "\n",
        "(train_images, train_labels), (test_images, test_labels) = fashion_mnist.load_data()"
      ],
      "execution_count": 2,
      "outputs": [
        {
          "output_type": "stream",
          "text": [
            "Downloading data from https://storage.googleapis.com/tensorflow/tf-keras-datasets/train-labels-idx1-ubyte.gz\n",
            "32768/29515 [=================================] - 0s 0us/step\n",
            "Downloading data from https://storage.googleapis.com/tensorflow/tf-keras-datasets/train-images-idx3-ubyte.gz\n",
            "26427392/26421880 [==============================] - 0s 0us/step\n",
            "Downloading data from https://storage.googleapis.com/tensorflow/tf-keras-datasets/t10k-labels-idx1-ubyte.gz\n",
            "8192/5148 [===============================================] - 0s 0us/step\n",
            "Downloading data from https://storage.googleapis.com/tensorflow/tf-keras-datasets/t10k-images-idx3-ubyte.gz\n",
            "4423680/4422102 [==============================] - 0s 0us/step\n"
          ],
          "name": "stdout"
        }
      ]
    },
    {
      "cell_type": "markdown",
      "metadata": {
        "id": "t9FDsUlxCaWW"
      },
      "source": [
        "Loading the dataset returns four NumPy arrays:\n",
        "\n",
        "* The `train_images` and `train_labels` arrays are the *training set*—the data the model uses to learn.\n",
        "* The model is tested against the *test set*, the `test_images`, and `test_labels` arrays.\n",
        "\n",
        "The images are 28x28 NumPy arrays, with pixel values ranging from 0 to 255. The *labels* are an array of integers, ranging from 0 to 9. These correspond to the *class* of clothing the image represents:\n",
        "\n",
        "<table>\n",
        "  <tr>\n",
        "    <th>Label</th>\n",
        "    <th>Class</th>\n",
        "  </tr>\n",
        "  <tr>\n",
        "    <td>0</td>\n",
        "    <td>T-shirt/top</td>\n",
        "  </tr>\n",
        "  <tr>\n",
        "    <td>1</td>\n",
        "    <td>Trouser</td>\n",
        "  </tr>\n",
        "    <tr>\n",
        "    <td>2</td>\n",
        "    <td>Pullover</td>\n",
        "  </tr>\n",
        "    <tr>\n",
        "    <td>3</td>\n",
        "    <td>Dress</td>\n",
        "  </tr>\n",
        "    <tr>\n",
        "    <td>4</td>\n",
        "    <td>Coat</td>\n",
        "  </tr>\n",
        "    <tr>\n",
        "    <td>5</td>\n",
        "    <td>Sandal</td>\n",
        "  </tr>\n",
        "    <tr>\n",
        "    <td>6</td>\n",
        "    <td>Shirt</td>\n",
        "  </tr>\n",
        "    <tr>\n",
        "    <td>7</td>\n",
        "    <td>Sneaker</td>\n",
        "  </tr>\n",
        "    <tr>\n",
        "    <td>8</td>\n",
        "    <td>Bag</td>\n",
        "  </tr>\n",
        "    <tr>\n",
        "    <td>9</td>\n",
        "    <td>Ankle boot</td>\n",
        "  </tr>\n",
        "</table>\n",
        "\n",
        "Each image is mapped to a single label. Since the *class names* are not included with the dataset, store them here to use later when plotting the images:"
      ]
    },
    {
      "cell_type": "code",
      "metadata": {
        "id": "IjnLH5S2CaWx"
      },
      "source": [
        "class_names = ['T-shirt/top', 'Trouser', 'Pullover', 'Dress', 'Coat',\n",
        "               'Sandal', 'Shirt', 'Sneaker', 'Bag', 'Ankle boot']"
      ],
      "execution_count": 3,
      "outputs": []
    },
    {
      "cell_type": "markdown",
      "metadata": {
        "id": "Brm0b_KACaWX"
      },
      "source": [
        "## Explore the data\n",
        "\n",
        "Let's explore the format of the dataset before training the model. The following shows there are 60,000 images in the training set, with each image represented as 28 x 28 pixels:"
      ]
    },
    {
      "cell_type": "code",
      "metadata": {
        "id": "zW5k_xz1CaWX",
        "colab": {
          "base_uri": "https://localhost:8080/"
        },
        "outputId": "45f1c0da-f6e5-4164-e1fd-c2de9cbeba1d"
      },
      "source": [
        "train_images.shape"
      ],
      "execution_count": 4,
      "outputs": [
        {
          "output_type": "execute_result",
          "data": {
            "text/plain": [
              "(60000, 28, 28)"
            ]
          },
          "metadata": {
            "tags": []
          },
          "execution_count": 4
        }
      ]
    },
    {
      "cell_type": "markdown",
      "metadata": {
        "id": "cIAcvQqMCaWf"
      },
      "source": [
        "Likewise, there are 60,000 labels in the training set:"
      ]
    },
    {
      "cell_type": "code",
      "metadata": {
        "id": "TRFYHB2mCaWb",
        "colab": {
          "base_uri": "https://localhost:8080/"
        },
        "outputId": "d1c08932-d557-4ea8-a10d-8c180976730c"
      },
      "source": [
        "len(train_labels)"
      ],
      "execution_count": 5,
      "outputs": [
        {
          "output_type": "execute_result",
          "data": {
            "text/plain": [
              "60000"
            ]
          },
          "metadata": {
            "tags": []
          },
          "execution_count": 5
        }
      ]
    },
    {
      "cell_type": "markdown",
      "metadata": {
        "id": "YSlYxFuRCaWk"
      },
      "source": [
        "Each label is an integer between 0 and 9:"
      ]
    },
    {
      "cell_type": "code",
      "metadata": {
        "id": "XKnCTHz4CaWg",
        "colab": {
          "base_uri": "https://localhost:8080/"
        },
        "outputId": "563537a7-6948-4897-f5d5-bf6abf618a10"
      },
      "source": [
        "train_labels"
      ],
      "execution_count": 6,
      "outputs": [
        {
          "output_type": "execute_result",
          "data": {
            "text/plain": [
              "array([9, 0, 0, ..., 3, 0, 5], dtype=uint8)"
            ]
          },
          "metadata": {
            "tags": []
          },
          "execution_count": 6
        }
      ]
    },
    {
      "cell_type": "markdown",
      "metadata": {
        "id": "TMPI88iZpO2T"
      },
      "source": [
        "There are 10,000 images in the test set. Again, each image is represented as 28 x 28 pixels:"
      ]
    },
    {
      "cell_type": "code",
      "metadata": {
        "id": "2KFnYlcwCaWl",
        "colab": {
          "base_uri": "https://localhost:8080/"
        },
        "outputId": "5610e1e0-5ed2-4114-ab1d-f6cdcbcf0dff"
      },
      "source": [
        "test_images.shape"
      ],
      "execution_count": 7,
      "outputs": [
        {
          "output_type": "execute_result",
          "data": {
            "text/plain": [
              "(10000, 28, 28)"
            ]
          },
          "metadata": {
            "tags": []
          },
          "execution_count": 7
        }
      ]
    },
    {
      "cell_type": "markdown",
      "metadata": {
        "id": "rd0A0Iu0CaWq"
      },
      "source": [
        "And the test set contains 10,000 images labels:"
      ]
    },
    {
      "cell_type": "code",
      "metadata": {
        "id": "iJmPr5-ACaWn",
        "colab": {
          "base_uri": "https://localhost:8080/"
        },
        "outputId": "baba834f-420c-47c9-9f0d-d606747e458c"
      },
      "source": [
        "len(test_labels)"
      ],
      "execution_count": 8,
      "outputs": [
        {
          "output_type": "execute_result",
          "data": {
            "text/plain": [
              "10000"
            ]
          },
          "metadata": {
            "tags": []
          },
          "execution_count": 8
        }
      ]
    },
    {
      "cell_type": "markdown",
      "metadata": {
        "id": "ES6uQoLKCaWr"
      },
      "source": [
        "## Preprocess the data\n",
        "\n",
        "The data must be preprocessed before training the network. If you inspect the first image in the training set, you will see that the pixel values fall in the range of 0 to 255:"
      ]
    },
    {
      "cell_type": "code",
      "metadata": {
        "id": "m4VEw8Ud9Quh",
        "colab": {
          "base_uri": "https://localhost:8080/",
          "height": 265
        },
        "outputId": "38b24587-4c04-4e6a-bb3c-90d894d62d47"
      },
      "source": [
        "plt.figure()\n",
        "plt.imshow(train_images[654])\n",
        "plt.colorbar()\n",
        "plt.grid(False)\n",
        "plt.show()"
      ],
      "execution_count": 9,
      "outputs": [
        {
          "output_type": "display_data",
          "data": {
            "image/png": "[encoded data removed]",
            "text/plain": [
              "<Figure size 432x288 with 2 Axes>"
            ]
          },
          "metadata": {
            "tags": [],
            "needs_background": "light"
          }
        }
      ]
    },
    {
      "cell_type": "markdown",
      "metadata": {
        "id": "Wz7l27Lz9S1P"
      },
      "source": [
        "Scale these values to a range of 0 to 1 before feeding them to the neural network model. To do so, divide the values by 255. It's important that the *training set* and the *testing set* be preprocessed in the same way:"
      ]
    },
    {
      "cell_type": "code",
      "metadata": {
        "id": "bW5WzIPlCaWv"
      },
      "source": [
        "train_images = train_images / 255.0\n",
        "\n",
        "test_images = test_images / 255.0"
      ],
      "execution_count": 10,
      "outputs": []
    },
    {
      "cell_type": "markdown",
      "metadata": {
        "id": "Ee638AlnCaWz"
      },
      "source": [
        "To verify that the data is in the correct format and that you're ready to build and train the network, let's display the first 25 images from the *training set* and display the class name below each image."
      ]
    },
    {
      "cell_type": "code",
      "metadata": {
        "id": "oZTImqg_CaW1",
        "colab": {
          "base_uri": "https://localhost:8080/",
          "height": 589
        },
        "outputId": "710c96a3-dea4-4783-beb1-4f5da01cb220"
      },
      "source": [
        "plt.figure(figsize=(10,10))\n",
        "for i in range(25):\n",
        "    plt.subplot(5,5,i+1)\n",
        "    plt.xticks([])\n",
        "    plt.yticks([])\n",
        "    plt.grid(False)\n",
        "    plt.imshow(train_images[i], cmap=plt.cm.binary)\n",
        "    plt.xlabel(class_names[train_labels[i]])\n",
        "plt.show()"
      ],
      "execution_count": 11,
      "outputs": [
        {
          "output_type": "display_data",
          "data": {
            "image/png": "[encoded data removed]",
            "text/plain": [
              "<Figure size 720x720 with 25 Axes>"
            ]
          },
          "metadata": {
            "tags": []
          }
        }
      ]
    },
    {
      "cell_type": "markdown",
      "metadata": {
        "id": "59veuiEZCaW4"
      },
      "source": [
        "## Build the model\n",
        "\n",
        "Building the neural network requires configuring the layers of the model, then compiling the model."
      ]
    },
    {
      "cell_type": "markdown",
      "metadata": {
        "id": "Gxg1XGm0eOBy"
      },
      "source": [
        "### Set up the layers\n",
        "\n",
        "The basic building block of a neural network is the *layer*. Layers extract representations from the data fed into them. Hopefully, these representations are meaningful for the problem at hand.\n",
        "\n",
        "Most of deep learning consists of chaining together simple layers. Most layers, such as `tf.keras.layers.Dense`, have parameters that are learned during training."
      ]
    },
    {
      "cell_type": "code",
      "metadata": {
        "id": "9ODch-OFCaW4"
      },
      "source": [
        "model = keras.Sequential([\n",
        "    keras.layers.Flatten(input_shape=(28, 28)),\n",
        "    keras.layers.Dense(128, activation='relu'),\n",
        "    keras.layers.Dense(10)\n",
        "])"
      ],
      "execution_count": 12,
      "outputs": []
    },
    {
      "cell_type": "markdown",
      "metadata": {
        "id": "gut8A_7rCaW6"
      },
      "source": [
        "The first layer in this network, `tf.keras.layers.Flatten`, transforms the format of the images from a two-dimensional array (of 28 by 28 pixels) to a one-dimensional array (of 28 * 28 = 784 pixels). Think of this layer as unstacking rows of pixels in the image and lining them up. This layer has no parameters to learn; it only reformats the data.\n",
        "\n",
        "After the pixels are flattened, the network consists of a sequence of two `tf.keras.layers.Dense` layers. These are densely connected, or fully connected, neural layers. The first `Dense` layer has 128 nodes (or neurons). The second (and last) layer returns a logits array with length of 10. Each node contains a score that indicates the current image belongs to one of the 10 classes.\n",
        "\n",
        "### Compile the model\n",
        "\n",
        "Before the model is ready for training, it needs a few more settings. These are added during the model's *compile* step:\n",
        "\n",
        "* *Loss function* —This measures how accurate the model is during training. You want to minimize this function to \"steer\" the model in the right direction.\n",
        "* *Optimizer* —This is how the model is updated based on the data it sees and its loss function.\n",
        "* *Metrics* —Used to monitor the training and testing steps. The following example uses *accuracy*, the fraction of the images that are correctly classified."
      ]
    },
    {
      "cell_type": "code",
      "metadata": {
        "id": "Lhan11blCaW7"
      },
      "source": [
        "model.compile(optimizer='adam',\n",
        "              loss=tf.keras.losses.SparseCategoricalCrossentropy(from_logits=True),\n",
        "              metrics=['accuracy'])"
      ],
      "execution_count": 13,
      "outputs": []
    },
    {
      "cell_type": "markdown",
      "metadata": {
        "id": "qKF6uW-BCaW-"
      },
      "source": [
        "## Train the model\n",
        "\n",
        "Training the neural network model requires the following steps:\n",
        "\n",
        "1. Feed the training data to the model. In this example, the training data is in the `train_images` and `train_labels` arrays.\n",
        "2. The model learns to associate images and labels.\n",
        "3. You ask the model to make predictions about a test set—in this example, the `test_images` array.\n",
        "4. Verify that the predictions match the labels from the `test_labels` array.\n"
      ]
    },
    {
      "cell_type": "markdown",
      "metadata": {
        "id": "Z4P4zIV7E28Z"
      },
      "source": [
        "### Feed the model\n",
        "\n",
        "To start training,  call the `model.fit` method—so called because it \"fits\" the model to the training data:"
      ]
    },
    {
      "cell_type": "code",
      "metadata": {
        "id": "xvwvpA64CaW_",
        "colab": {
          "base_uri": "https://localhost:8080/"
        },
        "outputId": "3d7c2754-02ba-4ff1-e875-351f25c0bb23"
      },
      "source": [
        "model.fit(train_images, train_labels, epochs=100)"
      ],
      "execution_count": 14,
      "outputs": [
        {
          "output_type": "stream",
          "text": [
            "Epoch 1/100\n",
            "1875/1875 [==============================] - 6s 2ms/step - loss: 0.6302 - accuracy: 0.7814\n",
            "Epoch 2/100\n",
            "1875/1875 [==============================] - 3s 2ms/step - loss: 0.3870 - accuracy: 0.8610\n",
            "Epoch 3/100\n",
            "1875/1875 [==============================] - 3s 2ms/step - loss: 0.3382 - accuracy: 0.8771\n",
            "Epoch 4/100\n",
            "1875/1875 [==============================] - 3s 2ms/step - loss: 0.3138 - accuracy: 0.8832\n",
            "Epoch 5/100\n",
            "1875/1875 [==============================] - 3s 2ms/step - loss: 0.2988 - accuracy: 0.8892\n",
            "Epoch 6/100\n",
            "1875/1875 [==============================] - 3s 2ms/step - loss: 0.2780 - accuracy: 0.8958\n",
            "Epoch 7/100\n",
            "1875/1875 [==============================] - 3s 2ms/step - loss: 0.2680 - accuracy: 0.9015\n",
            "Epoch 8/100\n",
            "1875/1875 [==============================] - 3s 2ms/step - loss: 0.2541 - accuracy: 0.9062\n",
            "Epoch 9/100\n",
            "1875/1875 [==============================] - 3s 2ms/step - loss: 0.2477 - accuracy: 0.9079\n",
            "Epoch 10/100\n",
            "1875/1875 [==============================] - 3s 2ms/step - loss: 0.2359 - accuracy: 0.9118\n",
            "Epoch 11/100\n",
            "1875/1875 [==============================] - 3s 2ms/step - loss: 0.2350 - accuracy: 0.9134\n",
            "Epoch 12/100\n",
            "1875/1875 [==============================] - 3s 2ms/step - loss: 0.2222 - accuracy: 0.9161\n",
            "Epoch 13/100\n",
            "1875/1875 [==============================] - 3s 2ms/step - loss: 0.2144 - accuracy: 0.9189\n",
            "Epoch 14/100\n",
            "1875/1875 [==============================] - 3s 2ms/step - loss: 0.2105 - accuracy: 0.9210\n",
            "Epoch 15/100\n",
            "1875/1875 [==============================] - 3s 2ms/step - loss: 0.2011 - accuracy: 0.9242\n",
            "Epoch 16/100\n",
            "1875/1875 [==============================] - 3s 2ms/step - loss: 0.1972 - accuracy: 0.9252\n",
            "Epoch 17/100\n",
            "1875/1875 [==============================] - 3s 2ms/step - loss: 0.1942 - accuracy: 0.9273\n",
            "Epoch 18/100\n",
            "1875/1875 [==============================] - 3s 2ms/step - loss: 0.1882 - accuracy: 0.9291\n",
            "Epoch 19/100\n",
            "1875/1875 [==============================] - 3s 2ms/step - loss: 0.1818 - accuracy: 0.9321\n",
            "Epoch 20/100\n",
            "1875/1875 [==============================] - 3s 2ms/step - loss: 0.1783 - accuracy: 0.9322\n",
            "Epoch 21/100\n",
            "1875/1875 [==============================] - 3s 2ms/step - loss: 0.1721 - accuracy: 0.9359\n",
            "Epoch 22/100\n",
            "1875/1875 [==============================] - 3s 2ms/step - loss: 0.1641 - accuracy: 0.9384\n",
            "Epoch 23/100\n",
            "1875/1875 [==============================] - 3s 2ms/step - loss: 0.1653 - accuracy: 0.9382\n",
            "Epoch 24/100\n",
            "1875/1875 [==============================] - 3s 2ms/step - loss: 0.1591 - accuracy: 0.9409\n",
            "Epoch 25/100\n",
            "1875/1875 [==============================] - 3s 2ms/step - loss: 0.1533 - accuracy: 0.9410\n",
            "Epoch 26/100\n",
            "1875/1875 [==============================] - 3s 2ms/step - loss: 0.1520 - accuracy: 0.9421\n",
            "Epoch 27/100\n",
            "1875/1875 [==============================] - 3s 2ms/step - loss: 0.1522 - accuracy: 0.9422\n",
            "Epoch 28/100\n",
            "1875/1875 [==============================] - 3s 2ms/step - loss: 0.1503 - accuracy: 0.9447\n",
            "Epoch 29/100\n",
            "1875/1875 [==============================] - 3s 2ms/step - loss: 0.1492 - accuracy: 0.9441\n",
            "Epoch 30/100\n",
            "1875/1875 [==============================] - 3s 2ms/step - loss: 0.1410 - accuracy: 0.9451\n",
            "Epoch 31/100\n",
            "1875/1875 [==============================] - 3s 2ms/step - loss: 0.1358 - accuracy: 0.9490\n",
            "Epoch 32/100\n",
            "1875/1875 [==============================] - 3s 2ms/step - loss: 0.1306 - accuracy: 0.9513\n",
            "Epoch 33/100\n",
            "1875/1875 [==============================] - 3s 2ms/step - loss: 0.1289 - accuracy: 0.9515\n",
            "Epoch 34/100\n",
            "1875/1875 [==============================] - 3s 2ms/step - loss: 0.1276 - accuracy: 0.9524\n",
            "Epoch 35/100\n",
            "1875/1875 [==============================] - 3s 2ms/step - loss: 0.1266 - accuracy: 0.9529\n",
            "Epoch 36/100\n",
            "1875/1875 [==============================] - 3s 2ms/step - loss: 0.1243 - accuracy: 0.9539\n",
            "Epoch 37/100\n",
            "1875/1875 [==============================] - 3s 2ms/step - loss: 0.1208 - accuracy: 0.9555\n",
            "Epoch 38/100\n",
            "1875/1875 [==============================] - 3s 2ms/step - loss: 0.1200 - accuracy: 0.9541\n",
            "Epoch 39/100\n",
            "1875/1875 [==============================] - 3s 2ms/step - loss: 0.1177 - accuracy: 0.9547\n",
            "Epoch 40/100\n",
            "1875/1875 [==============================] - 3s 2ms/step - loss: 0.1105 - accuracy: 0.9584\n",
            "Epoch 41/100\n",
            "1875/1875 [==============================] - 3s 2ms/step - loss: 0.1130 - accuracy: 0.9574\n",
            "Epoch 42/100\n",
            "1875/1875 [==============================] - 3s 2ms/step - loss: 0.1086 - accuracy: 0.9577\n",
            "Epoch 43/100\n",
            "1875/1875 [==============================] - 3s 2ms/step - loss: 0.1078 - accuracy: 0.9593\n",
            "Epoch 44/100\n",
            "1875/1875 [==============================] - 3s 2ms/step - loss: 0.1033 - accuracy: 0.9611\n",
            "Epoch 45/100\n",
            "1875/1875 [==============================] - 3s 2ms/step - loss: 0.1068 - accuracy: 0.9603\n",
            "Epoch 46/100\n",
            "1875/1875 [==============================] - 3s 2ms/step - loss: 0.1040 - accuracy: 0.9610\n",
            "Epoch 47/100\n",
            "1875/1875 [==============================] - 3s 2ms/step - loss: 0.0995 - accuracy: 0.9626\n",
            "Epoch 48/100\n",
            "1875/1875 [==============================] - 3s 2ms/step - loss: 0.1002 - accuracy: 0.9621\n",
            "Epoch 49/100\n",
            "1875/1875 [==============================] - 3s 2ms/step - loss: 0.1004 - accuracy: 0.9619\n",
            "Epoch 50/100\n",
            "1875/1875 [==============================] - 3s 2ms/step - loss: 0.0952 - accuracy: 0.9644\n",
            "Epoch 51/100\n",
            "1875/1875 [==============================] - 3s 2ms/step - loss: 0.0926 - accuracy: 0.9658\n",
            "Epoch 52/100\n",
            "1875/1875 [==============================] - 3s 2ms/step - loss: 0.0908 - accuracy: 0.9660\n",
            "Epoch 53/100\n",
            "1875/1875 [==============================] - 3s 2ms/step - loss: 0.0896 - accuracy: 0.9666\n",
            "Epoch 54/100\n",
            "1875/1875 [==============================] - 3s 2ms/step - loss: 0.0896 - accuracy: 0.9666\n",
            "Epoch 55/100\n",
            "1875/1875 [==============================] - 3s 2ms/step - loss: 0.0865 - accuracy: 0.9678\n",
            "Epoch 56/100\n",
            "1875/1875 [==============================] - 3s 2ms/step - loss: 0.0883 - accuracy: 0.9668\n",
            "Epoch 57/100\n",
            "1875/1875 [==============================] - 3s 2ms/step - loss: 0.0868 - accuracy: 0.9674\n",
            "Epoch 58/100\n",
            "1875/1875 [==============================] - 3s 2ms/step - loss: 0.0829 - accuracy: 0.9691\n",
            "Epoch 59/100\n",
            "1875/1875 [==============================] - 3s 2ms/step - loss: 0.0834 - accuracy: 0.9689\n",
            "Epoch 60/100\n",
            "1875/1875 [==============================] - 3s 2ms/step - loss: 0.0815 - accuracy: 0.9692\n",
            "Epoch 61/100\n",
            "1875/1875 [==============================] - 3s 2ms/step - loss: 0.0831 - accuracy: 0.9693\n",
            "Epoch 62/100\n",
            "1875/1875 [==============================] - 3s 2ms/step - loss: 0.0806 - accuracy: 0.9702\n",
            "Epoch 63/100\n",
            "1875/1875 [==============================] - 3s 2ms/step - loss: 0.0763 - accuracy: 0.9709\n",
            "Epoch 64/100\n",
            "1875/1875 [==============================] - 3s 2ms/step - loss: 0.0819 - accuracy: 0.9696\n",
            "Epoch 65/100\n",
            "1875/1875 [==============================] - 3s 2ms/step - loss: 0.0780 - accuracy: 0.9720\n",
            "Epoch 66/100\n",
            "1875/1875 [==============================] - 3s 2ms/step - loss: 0.0760 - accuracy: 0.9712\n",
            "Epoch 67/100\n",
            "1875/1875 [==============================] - 3s 2ms/step - loss: 0.0761 - accuracy: 0.9726\n",
            "Epoch 68/100\n",
            "1875/1875 [==============================] - 3s 2ms/step - loss: 0.0745 - accuracy: 0.9721\n",
            "Epoch 69/100\n",
            "1875/1875 [==============================] - 3s 2ms/step - loss: 0.0719 - accuracy: 0.9729\n",
            "Epoch 70/100\n",
            "1875/1875 [==============================] - 3s 2ms/step - loss: 0.0699 - accuracy: 0.9740\n",
            "Epoch 71/100\n",
            "1875/1875 [==============================] - 3s 2ms/step - loss: 0.0704 - accuracy: 0.9737\n",
            "Epoch 72/100\n",
            "1875/1875 [==============================] - 3s 2ms/step - loss: 0.0691 - accuracy: 0.9749\n",
            "Epoch 73/100\n",
            "1875/1875 [==============================] - 3s 2ms/step - loss: 0.0695 - accuracy: 0.9739\n",
            "Epoch 74/100\n",
            "1875/1875 [==============================] - 3s 2ms/step - loss: 0.0684 - accuracy: 0.9749\n",
            "Epoch 75/100\n",
            "1875/1875 [==============================] - 3s 2ms/step - loss: 0.0665 - accuracy: 0.9753\n",
            "Epoch 76/100\n",
            "1875/1875 [==============================] - 3s 2ms/step - loss: 0.0627 - accuracy: 0.9761\n",
            "Epoch 77/100\n",
            "1875/1875 [==============================] - 3s 2ms/step - loss: 0.0701 - accuracy: 0.9740\n",
            "Epoch 78/100\n",
            "1875/1875 [==============================] - 3s 2ms/step - loss: 0.0666 - accuracy: 0.9750\n",
            "Epoch 79/100\n",
            "1875/1875 [==============================] - 3s 2ms/step - loss: 0.0593 - accuracy: 0.9777\n",
            "Epoch 80/100\n",
            "1875/1875 [==============================] - 3s 2ms/step - loss: 0.0625 - accuracy: 0.9763\n",
            "Epoch 81/100\n",
            "1875/1875 [==============================] - 3s 2ms/step - loss: 0.0603 - accuracy: 0.9773\n",
            "Epoch 82/100\n",
            "1875/1875 [==============================] - 3s 2ms/step - loss: 0.0624 - accuracy: 0.9766\n",
            "Epoch 83/100\n",
            "1875/1875 [==============================] - 3s 2ms/step - loss: 0.0592 - accuracy: 0.9781\n",
            "Epoch 84/100\n",
            "1875/1875 [==============================] - 3s 2ms/step - loss: 0.0613 - accuracy: 0.9771\n",
            "Epoch 85/100\n",
            "1875/1875 [==============================] - 3s 2ms/step - loss: 0.0618 - accuracy: 0.9770\n",
            "Epoch 86/100\n",
            "1875/1875 [==============================] - 3s 2ms/step - loss: 0.0564 - accuracy: 0.9793\n",
            "Epoch 87/100\n",
            "1875/1875 [==============================] - 3s 2ms/step - loss: 0.0599 - accuracy: 0.9775\n",
            "Epoch 88/100\n",
            "1875/1875 [==============================] - 3s 2ms/step - loss: 0.0555 - accuracy: 0.9797\n",
            "Epoch 89/100\n",
            "1875/1875 [==============================] - 3s 2ms/step - loss: 0.0558 - accuracy: 0.9797\n",
            "Epoch 90/100\n",
            "1875/1875 [==============================] - 3s 2ms/step - loss: 0.0534 - accuracy: 0.9807\n",
            "Epoch 91/100\n",
            "1875/1875 [==============================] - 3s 2ms/step - loss: 0.0570 - accuracy: 0.9789\n",
            "Epoch 92/100\n",
            "1875/1875 [==============================] - 3s 2ms/step - loss: 0.0523 - accuracy: 0.9802\n",
            "Epoch 93/100\n",
            "1875/1875 [==============================] - 3s 2ms/step - loss: 0.0533 - accuracy: 0.9800\n",
            "Epoch 94/100\n",
            "1875/1875 [==============================] - 3s 2ms/step - loss: 0.0535 - accuracy: 0.9808\n",
            "Epoch 95/100\n",
            "1875/1875 [==============================] - 3s 2ms/step - loss: 0.0550 - accuracy: 0.9792\n",
            "Epoch 96/100\n",
            "1875/1875 [==============================] - 3s 2ms/step - loss: 0.0507 - accuracy: 0.9814\n",
            "Epoch 97/100\n",
            "1875/1875 [==============================] - 3s 2ms/step - loss: 0.0497 - accuracy: 0.9822\n",
            "Epoch 98/100\n",
            "1875/1875 [==============================] - 3s 2ms/step - loss: 0.0473 - accuracy: 0.9818\n",
            "Epoch 99/100\n",
            "1875/1875 [==============================] - 3s 2ms/step - loss: 0.0483 - accuracy: 0.9827\n",
            "Epoch 100/100\n",
            "1875/1875 [==============================] - 3s 2ms/step - loss: 0.0487 - accuracy: 0.9829\n"
          ],
          "name": "stdout"
        },
        {
          "output_type": "execute_result",
          "data": {
            "text/plain": [
              "<tensorflow.python.keras.callbacks.History at 0x7f1ee06d21d0>"
            ]
          },
          "metadata": {
            "tags": []
          },
          "execution_count": 14
        }
      ]
    },
    {
      "cell_type": "markdown",
      "metadata": {
        "id": "W3ZVOhugCaXA"
      },
      "source": [
        "As the model trains, the loss and accuracy metrics are displayed. This model reaches an accuracy of about 0.91 (or 91%) on the training data."
      ]
    },
    {
      "cell_type": "markdown",
      "metadata": {
        "id": "wCpr6DGyE28h"
      },
      "source": [
        "### Evaluate accuracy\n",
        "\n",
        "Next, compare how the model performs on the test dataset:"
      ]
    },
    {
      "cell_type": "code",
      "metadata": {
        "id": "VflXLEeECaXC",
        "colab": {
          "base_uri": "https://localhost:8080/"
        },
        "outputId": "203b327b-f37d-4b46-cc54-0bffbe55720f"
      },
      "source": [
        "test_loss, test_acc = model.evaluate(test_images,  test_labels, verbose=2)\n",
        "\n",
        "print('\\nTest accuracy:', test_acc)"
      ],
      "execution_count": 15,
      "outputs": [
        {
          "output_type": "stream",
          "text": [
            "313/313 - 0s - loss: 0.8161 - accuracy: 0.8852\n",
            "\n",
            "Test accuracy: 0.885200023651123\n"
          ],
          "name": "stdout"
        }
      ]
    },
    {
      "cell_type": "markdown",
      "metadata": {
        "id": "yWfgsmVXCaXG"
      },
      "source": [
        "It turns out that the accuracy on the test dataset is a little less than the accuracy on the training dataset. This gap between training accuracy and test accuracy represents *overfitting*. Overfitting happens when a machine learning model performs worse on new, previously unseen inputs than it does on the training data. An overfitted model \"memorizes\" the noise and details in the training dataset to a point where it negatively impacts the performance of the model on the new data. For more information, see the following:\n",
        "*   [Demonstrate overfitting](https://www.tensorflow.org/tutorials/keras/overfit_and_underfit#demonstrate_overfitting)\n",
        "*   [Strategies to prevent overfitting](https://www.tensorflow.org/tutorials/keras/overfit_and_underfit#strategies_to_prevent_overfitting)"
      ]
    },
    {
      "cell_type": "markdown",
      "metadata": {
        "id": "v-PyD1SYE28q"
      },
      "source": [
        "### Make predictions\n",
        "\n",
        "With the model trained, you can use it to make predictions about some images.\n",
        "The model's linear outputs, [logits](https://developers.google.com/machine-learning/glossary#logits). Attach a softmax layer to convert the logits to probabilities, which are easier to interpret. "
      ]
    },
    {
      "cell_type": "code",
      "metadata": {
        "id": "DnfNA0CrQLSD"
      },
      "source": [
        "probability_model = tf.keras.Sequential([model, \n",
        "                                         tf.keras.layers.Softmax()])"
      ],
      "execution_count": 16,
      "outputs": []
    },
    {
      "cell_type": "code",
      "metadata": {
        "id": "Gl91RPhdCaXI"
      },
      "source": [
        "predictions = probability_model.predict(test_images)"
      ],
      "execution_count": 17,
      "outputs": []
    },
    {
      "cell_type": "markdown",
      "metadata": {
        "id": "x9Kk1voUCaXJ"
      },
      "source": [
        "Here, the model has predicted the label for each image in the testing set. Let's take a look at the first prediction:"
      ]
    },
    {
      "cell_type": "code",
      "metadata": {
        "id": "3DmJEUinCaXK",
        "colab": {
          "base_uri": "https://localhost:8080/"
        },
        "outputId": "06a934d3-0a5b-41bc-f577-68c753172d91"
      },
      "source": [
        "predictions[0]"
      ],
      "execution_count": 18,
      "outputs": [
        {
          "output_type": "execute_result",
          "data": {
            "text/plain": [
              "array([7.4095464e-23, 0.0000000e+00, 3.8213154e-31, 0.0000000e+00,\n",
              "       1.3184542e-35, 4.4846925e-14, 3.2565991e-22, 1.2092745e-13,\n",
              "       2.0062364e-26, 1.0000000e+00], dtype=float32)"
            ]
          },
          "metadata": {
            "tags": []
          },
          "execution_count": 18
        }
      ]
    },
    {
      "cell_type": "markdown",
      "metadata": {
        "id": "-hw1hgeSCaXN"
      },
      "source": [
        "A prediction is an array of 10 numbers. They represent the model's \"confidence\" that the image corresponds to each of the 10 different articles of clothing. You can see which label has the highest confidence value:"
      ]
    },
    {
      "cell_type": "code",
      "metadata": {
        "id": "qsqenuPnCaXO",
        "colab": {
          "base_uri": "https://localhost:8080/"
        },
        "outputId": "d6194aa5-3b89-425d-9dc6-5aaac4a99006"
      },
      "source": [
        "np.argmax(predictions[0])"
      ],
      "execution_count": 19,
      "outputs": [
        {
          "output_type": "execute_result",
          "data": {
            "text/plain": [
              "9"
            ]
          },
          "metadata": {
            "tags": []
          },
          "execution_count": 19
        }
      ]
    },
    {
      "cell_type": "markdown",
      "metadata": {
        "id": "E51yS7iCCaXO"
      },
      "source": [
        "So, the model is most confident that this image is an ankle boot, or `class_names[9]`. Examining the test label shows that this classification is correct:"
      ]
    },
    {
      "cell_type": "code",
      "metadata": {
        "id": "Sd7Pgsu6CaXP",
        "colab": {
          "base_uri": "https://localhost:8080/"
        },
        "outputId": "186d36a6-fcb1-4fde-e2c4-392f5d77bcb5"
      },
      "source": [
        "test_labels[0]"
      ],
      "execution_count": 20,
      "outputs": [
        {
          "output_type": "execute_result",
          "data": {
            "text/plain": [
              "9"
            ]
          },
          "metadata": {
            "tags": []
          },
          "execution_count": 20
        }
      ]
    },
    {
      "cell_type": "markdown",
      "metadata": {
        "id": "ygh2yYC972ne"
      },
      "source": [
        "Graph this to look at the full set of 10 class predictions."
      ]
    },
    {
      "cell_type": "code",
      "metadata": {
        "id": "DvYmmrpIy6Y1"
      },
      "source": [
        "def plot_image(i, predictions_array, true_label, img):\n",
        "  predictions_array, true_label, img = predictions_array, true_label[i], img[i]\n",
        "  plt.grid(False)\n",
        "  plt.xticks([])\n",
        "  plt.yticks([])\n",
        "\n",
        "  plt.imshow(img, cmap=plt.cm.binary)\n",
        "\n",
        "  predicted_label = np.argmax(predictions_array)\n",
        "  if predicted_label == true_label:\n",
        "    color = 'blue'\n",
        "  else:\n",
        "    color = 'red'\n",
        "\n",
        "  plt.xlabel(\"{} {:2.0f}% ({})\".format(class_names[predicted_label],\n",
        "                                100*np.max(predictions_array),\n",
        "                                class_names[true_label]),\n",
        "                                color=color)\n",
        "\n",
        "def plot_value_array(i, predictions_array, true_label):\n",
        "  predictions_array, true_label = predictions_array, true_label[i]\n",
        "  plt.grid(False)\n",
        "  plt.xticks(range(10))\n",
        "  plt.yticks([])\n",
        "  thisplot = plt.bar(range(10), predictions_array, color=\"#777777\")\n",
        "  plt.ylim([0, 1])\n",
        "  predicted_label = np.argmax(predictions_array)\n",
        "\n",
        "  thisplot[predicted_label].set_color('red')\n",
        "  thisplot[true_label].set_color('blue')"
      ],
      "execution_count": 22,
      "outputs": []
    },
    {
      "cell_type": "markdown",
      "metadata": {
        "id": "Zh9yABaME29S"
      },
      "source": [
        "### Verify predictions\n",
        "\n",
        "With the model trained, you can use it to make predictions about some images."
      ]
    },
    {
      "cell_type": "markdown",
      "metadata": {
        "id": "d4Ov9OFDMmOD"
      },
      "source": [
        "Let's look at the 0th image, predictions, and prediction array. Correct prediction labels are blue and incorrect prediction labels are red. The number gives the percentage (out of 100) for the predicted label."
      ]
    },
    {
      "cell_type": "code",
      "metadata": {
        "id": "HV5jw-5HwSmO",
        "colab": {
          "base_uri": "https://localhost:8080/",
          "height": 211
        },
        "outputId": "fa71fbcd-c6d4-4848-ff95-34afcd21a4f9"
      },
      "source": [
        "i = 0\n",
        "plt.figure(figsize=(6,3))\n",
        "plt.subplot(1,2,1)\n",
        "plot_image(i, predictions[i], test_labels, test_images)\n",
        "plt.subplot(1,2,2)\n",
        "plot_value_array(i, predictions[i],  test_labels)\n",
        "plt.show()"
      ],
      "execution_count": 23,
      "outputs": [
        {
          "output_type": "display_data",
          "data": {
            "image/png": "[encoded data removed]",
            "text/plain": [
              "<Figure size 432x216 with 2 Axes>"
            ]
          },
          "metadata": {
            "tags": [],
            "needs_background": "light"
          }
        }
      ]
    },
    {
      "cell_type": "code",
      "metadata": {
        "id": "Ko-uzOufSCSe",
        "colab": {
          "base_uri": "https://localhost:8080/",
          "height": 211
        },
        "outputId": "c19d3077-680e-4fb6-ba8b-4ec2a062d895"
      },
      "source": [
        "i = 12\n",
        "plt.figure(figsize=(6,3))\n",
        "plt.subplot(1,2,1)\n",
        "plot_image(i, predictions[i], test_labels, test_images)\n",
        "plt.subplot(1,2,2)\n",
        "plot_value_array(i, predictions[i],  test_labels)\n",
        "plt.show()"
      ],
      "execution_count": 24,
      "outputs": [
        {
          "output_type": "display_data",
          "data": {
            "image/png": "[encoded data removed]",
            "text/plain": [
              "<Figure size 432x216 with 2 Axes>"
            ]
          },
          "metadata": {
            "tags": [],
            "needs_background": "light"
          }
        }
      ]
    },
    {
      "cell_type": "markdown",
      "metadata": {
        "id": "kgdvGD52CaXR"
      },
      "source": [
        "Let's plot several images with their predictions. Note that the model can be wrong even when very confident."
      ]
    },
    {
      "cell_type": "code",
      "metadata": {
        "id": "hQlnbqaw2Qu_",
        "colab": {
          "base_uri": "https://localhost:8080/",
          "height": 729
        },
        "outputId": "b140b40e-1fac-4e21-9ef9-30109a0bffef"
      },
      "source": [
        "# Plot the first X test images, their predicted labels, and the true labels.\n",
        "# Color correct predictions in blue and incorrect predictions in red.\n",
        "num_rows = 5\n",
        "num_cols = 3\n",
        "num_images = num_rows*num_cols\n",
        "plt.figure(figsize=(2*2*num_cols, 2*num_rows))\n",
        "for i in range(num_images):\n",
        "  plt.subplot(num_rows, 2*num_cols, 2*i+1)\n",
        "  plot_image(i, predictions[i], test_labels, test_images)\n",
        "  plt.subplot(num_rows, 2*num_cols, 2*i+2)\n",
        "  plot_value_array(i, predictions[i], test_labels)\n",
        "plt.tight_layout()\n",
        "plt.show()"
      ],
      "execution_count": 25,
      "outputs": [
        {
          "output_type": "display_data",
          "data": {
            "image/png": "[encoded data removed]",
            "text/plain": [
              "<Figure size 864x720 with 30 Axes>"
            ]
          },
          "metadata": {
            "tags": [],
            "needs_background": "light"
          }
        }
      ]
    },
    {
      "cell_type": "markdown",
      "metadata": {
        "id": "R32zteKHCaXT"
      },
      "source": [
        "## Use the trained model\n",
        "\n",
        "Finally, use the trained model to make a prediction about a single image."
      ]
    },
    {
      "cell_type": "code",
      "metadata": {
        "id": "yRJ7JU7JCaXT",
        "colab": {
          "base_uri": "https://localhost:8080/"
        },
        "outputId": "888d7160-e4e2-4750-a097-bca895fcb18d"
      },
      "source": [
        "# Grab an image from the test dataset.\n",
        "img = test_images[1]\n",
        "\n",
        "print(img.shape)"
      ],
      "execution_count": 26,
      "outputs": [
        {
          "output_type": "stream",
          "text": [
            "(28, 28)\n"
          ],
          "name": "stdout"
        }
      ]
    },
    {
      "cell_type": "markdown",
      "metadata": {
        "id": "vz3bVp21CaXV"
      },
      "source": [
        "`tf.keras` models are optimized to make predictions on a *batch*, or collection, of examples at once. Accordingly, even though you're using a single image, you need to add it to a list:"
      ]
    },
    {
      "cell_type": "code",
      "metadata": {
        "id": "lDFh5yF_CaXW",
        "colab": {
          "base_uri": "https://localhost:8080/"
        },
        "outputId": "dc4270a7-4f4d-44ad-ca3d-146e60b53895"
      },
      "source": [
        "# Add the image to a batch where it's the only member.\n",
        "img = (np.expand_dims(img,0))\n",
        "\n",
        "print(img.shape)"
      ],
      "execution_count": 27,
      "outputs": [
        {
          "output_type": "stream",
          "text": [
            "(1, 28, 28)\n"
          ],
          "name": "stdout"
        }
      ]
    },
    {
      "cell_type": "markdown",
      "metadata": {
        "id": "EQ5wLTkcCaXY"
      },
      "source": [
        "Now predict the correct label for this image:"
      ]
    },
    {
      "cell_type": "code",
      "metadata": {
        "id": "o_rzNSdrCaXY",
        "colab": {
          "base_uri": "https://localhost:8080/"
        },
        "outputId": "39685ef7-6225-41dc-a73c-9982593f1fcc"
      },
      "source": [
        "predictions_single = probability_model.predict(img)\n",
        "\n",
        "print(predictions_single)"
      ],
      "execution_count": 28,
      "outputs": [
        {
          "output_type": "stream",
          "text": [
            "[[1.1897940e-05 2.6201663e-27 9.9998701e-01 3.2448276e-21 1.0112689e-06\n",
            "  3.3914592e-34 1.1250918e-08 0.0000000e+00 3.4173462e-24 0.0000000e+00]]\n"
          ],
          "name": "stdout"
        }
      ]
    },
    {
      "cell_type": "code",
      "metadata": {
        "id": "6Ai-cpLjO-3A",
        "colab": {
          "base_uri": "https://localhost:8080/",
          "height": 300
        },
        "outputId": "f8d63e72-09a1-4e28-fd9a-69c27a09fb6b"
      },
      "source": [
        "plot_value_array(1, predictions_single[0], test_labels)\n",
        "_ = plt.xticks(range(10), class_names, rotation=45)"
      ],
      "execution_count": 29,
      "outputs": [
        {
          "output_type": "display_data",
          "data": {
            "image/png": "[encoded data removed]",
            "text/plain": [
              "<Figure size 432x288 with 1 Axes>"
            ]
          },
          "metadata": {
            "tags": [],
            "needs_background": "light"
          }
        }
      ]
    },
    {
      "cell_type": "markdown",
      "metadata": {
        "id": "cU1Y2OAMCaXb"
      },
      "source": [
        "`keras.Model.predict` returns a list of lists—one list for each image in the batch of data. Grab the predictions for our (only) image in the batch:"
      ]
    },
    {
      "cell_type": "code",
      "metadata": {
        "id": "2tRmdq_8CaXb",
        "colab": {
          "base_uri": "https://localhost:8080/"
        },
        "outputId": "90e9273f-39b7-4445-9c60-67667fa13573"
      },
      "source": [
        "np.argmax(predictions_single[0])"
      ],
      "execution_count": 30,
      "outputs": [
        {
          "output_type": "execute_result",
          "data": {
            "text/plain": [
              "2"
            ]
          },
          "metadata": {
            "tags": []
          },
          "execution_count": 30
        }
      ]
    },
    {
      "cell_type": "markdown",
      "metadata": {
        "id": "YFc2HbEVCaXd"
      },
      "source": [
        "And the model predicts a label as expected."
      ]
    }
  ]
}